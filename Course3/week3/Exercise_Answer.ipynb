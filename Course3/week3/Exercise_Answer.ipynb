{
  "nbformat": 4,
  "nbformat_minor": 0,
  "metadata": {
    "accelerator": "GPU",
    "colab": {
      "name": "NLP_Course_Week_3_Exercise_Answer.ipynb",
      "provenance": [],
      "toc_visible": true,
      "include_colab_link": true
    },
    "kernelspec": {
      "display_name": "Python 3",
      "language": "python",
      "name": "python3"
    },
    "language_info": {
      "codemirror_mode": {
        "name": "ipython",
        "version": 3
      },
      "file_extension": ".py",
      "mimetype": "text/x-python",
      "name": "python",
      "nbconvert_exporter": "python",
      "pygments_lexer": "ipython3",
      "version": "3.7.6"
    }
  },
  "cells": [
    {
      "cell_type": "markdown",
      "metadata": {
        "id": "view-in-github",
        "colab_type": "text"
      },
      "source": [
        "<a href=\"https://colab.research.google.com/github/RTae/TensorFlow-in-Practice/blob/master/Course3/week3/Exercise_Answer.ipynb\" target=\"_parent\"><img src=\"https://colab.research.google.com/assets/colab-badge.svg\" alt=\"Open In Colab\"/></a>"
      ]
    },
    {
      "cell_type": "code",
      "metadata": {
        "colab_type": "code",
        "id": "zX4Kg8DUTKWO",
        "colab": {}
      },
      "source": [
        "#@title Licensed under the Apache License, Version 2.0 (the \"License\");\n",
        "# you may not use this file except in compliance with the License.\n",
        "# You may obtain a copy of the License at\n",
        "#\n",
        "# https://www.apache.org/licenses/LICENSE-2.0\n",
        "#\n",
        "# Unless required by applicable law or agreed to in writing, software\n",
        "# distributed under the License is distributed on an \"AS IS\" BASIS,\n",
        "# WITHOUT WARRANTIES OR CONDITIONS OF ANY KIND, either express or implied.\n",
        "# See the License for the specific language governing permissions and\n",
        "# limitations under the License."
      ],
      "execution_count": null,
      "outputs": []
    },
    {
      "cell_type": "markdown",
      "metadata": {
        "id": "N7QOSwk-UsLN",
        "colab_type": "text"
      },
      "source": [
        "<a href=\"https://colab.research.google.com/github/lmoroney/dlaicourse/blob/master/TensorFlow%20In%20Practice/Course%203%20-%20NLP/NLP%20Course%20-%20Week%203%20Exercise%20Answer.ipynb\" target=\"_parent\"><img src=\"https://colab.research.google.com/assets/colab-badge.svg\" alt=\"Open In Colab\"/></a>"
      ]
    },
    {
      "cell_type": "code",
      "metadata": {
        "colab_type": "code",
        "id": "hmA6EzkQJ5jt",
        "colab": {}
      },
      "source": [
        "import json\n",
        "import tensorflow as tf\n",
        "import csv\n",
        "import random\n",
        "import numpy as np\n",
        "\n",
        "from tensorflow.keras.preprocessing.text import Tokenizer\n",
        "from tensorflow.keras.preprocessing.sequence import pad_sequences\n",
        "from tensorflow.keras.utils import to_categorical\n",
        "from tensorflow.keras import regularizers\n",
        "\n",
        "\n",
        "embedding_dim = 100\n",
        "max_length = 16\n",
        "trunc_type='post'\n",
        "padding_type='post'\n",
        "oov_tok = \"<OOV>\"\n",
        "training_size=160000\n",
        "test_portion=.1\n",
        "\n",
        "corpus = []\n"
      ],
      "execution_count": null,
      "outputs": []
    },
    {
      "cell_type": "code",
      "metadata": {
        "colab_type": "code",
        "id": "bM0l_dORKqE0",
        "colab": {
          "base_uri": "https://localhost:8080/",
          "height": 197
        },
        "outputId": "543836ad-2c20-4049-e2ae-06a9cc4b3785"
      },
      "source": [
        "# Note that I cleaned the Stanford dataset to remove LATIN1 encoding to make it easier for Python CSV reader\n",
        "# You can do that yourself with:\n",
        "# iconv -f LATIN1 -t UTF8 training.1600000.processed.noemoticon.csv -o training_cleaned.csv\n",
        "# I then hosted it on my site to make it easier to use in this notebook\n",
        "\n",
        "!wget --no-check-certificate \\\n",
        "    https://storage.googleapis.com/laurencemoroney-blog.appspot.com/training_cleaned.csv \\\n",
        "    -O /tmp/training_cleaned.csv\n",
        "\n",
        "num_sentences = 0\n",
        "\n",
        "with open(\"/tmp/training_cleaned.csv\") as csvfile:\n",
        "    reader = csv.reader(csvfile, delimiter=',')\n",
        "    for row in reader:\n",
        "        list_item=[]\n",
        "        list_item.append(row[5])\n",
        "        this_label=row[0]\n",
        "        if this_label=='0':\n",
        "            list_item.append(0)\n",
        "        else:\n",
        "            list_item.append(1)\n",
        "        num_sentences = num_sentences + 1\n",
        "        corpus.append(list_item)\n"
      ],
      "execution_count": null,
      "outputs": [
        {
          "output_type": "stream",
          "text": [
            "--2020-07-05 09:33:56--  https://storage.googleapis.com/laurencemoroney-blog.appspot.com/training_cleaned.csv\n",
            "Resolving storage.googleapis.com (storage.googleapis.com)... 74.125.142.128, 74.125.195.128, 74.125.20.128, ...\n",
            "Connecting to storage.googleapis.com (storage.googleapis.com)|74.125.142.128|:443... connected.\n",
            "HTTP request sent, awaiting response... 200 OK\n",
            "Length: 238942690 (228M) [application/octet-stream]\n",
            "Saving to: ‘/tmp/training_cleaned.csv’\n",
            "\n",
            "/tmp/training_clean 100%[===================>] 227.87M  71.7MB/s    in 3.2s    \n",
            "\n",
            "2020-07-05 09:33:59 (71.7 MB/s) - ‘/tmp/training_cleaned.csv’ saved [238942690/238942690]\n",
            "\n"
          ],
          "name": "stdout"
        }
      ]
    },
    {
      "cell_type": "code",
      "metadata": {
        "colab_type": "code",
        "id": "3kxblBUjEUX-",
        "colab": {
          "base_uri": "https://localhost:8080/",
          "height": 65
        },
        "outputId": "ee5074bc-b1b8-474b-d774-16277dc087d7"
      },
      "source": [
        "print(num_sentences)\n",
        "print(len(corpus))\n",
        "print(corpus[1])\n",
        "\n",
        "# Expected Output:\n",
        "# 1600000\n",
        "# 1600000\n",
        "# [\"is upset that he can't update his Facebook by texting it... and might cry as a result  School today also. Blah!\", 0]"
      ],
      "execution_count": null,
      "outputs": [
        {
          "output_type": "stream",
          "text": [
            "1600000\n",
            "1600000\n",
            "[\"is upset that he can't update his Facebook by texting it... and might cry as a result  School today also. Blah!\", 0]\n"
          ],
          "name": "stdout"
        }
      ]
    },
    {
      "cell_type": "code",
      "metadata": {
        "colab_type": "code",
        "id": "ohOGz24lsNAD",
        "colab": {}
      },
      "source": [
        "sentences=[]\n",
        "labels=[]\n",
        "random.shuffle(corpus)\n",
        "for x in range(training_size):\n",
        "    sentences.append(corpus[x][0])\n",
        "    labels.append(corpus[x][1])\n",
        "\n",
        "\n",
        "tokenizer = Tokenizer()\n",
        "tokenizer.fit_on_texts(sentences)\n",
        "\n",
        "word_index = tokenizer.word_index\n",
        "vocab_size=len(word_index)\n",
        "\n",
        "sequences = tokenizer.texts_to_sequences(sentences)\n",
        "padded = pad_sequences(sequences, maxlen=max_length, padding=padding_type, truncating=trunc_type)\n",
        "\n",
        "split = int(test_portion * training_size)\n",
        "\n",
        "test_sequences = padded[0:split]\n",
        "training_sequences = padded[split:training_size]\n",
        "test_labels = labels[0:split]\n",
        "training_labels = labels[split:training_size]"
      ],
      "execution_count": null,
      "outputs": []
    },
    {
      "cell_type": "code",
      "metadata": {
        "colab_type": "code",
        "id": "gIrtRem1En3N",
        "colab": {
          "base_uri": "https://localhost:8080/",
          "height": 49
        },
        "outputId": "a4932648-6bb3-4cc4-d621-2ec63e44958e"
      },
      "source": [
        "print(vocab_size)\n",
        "print(word_index['i'])\n",
        "# Expected Output\n",
        "# 138858\n",
        "# 1"
      ],
      "execution_count": null,
      "outputs": [
        {
          "output_type": "stream",
          "text": [
            "138561\n",
            "1\n"
          ],
          "name": "stdout"
        }
      ]
    },
    {
      "cell_type": "code",
      "metadata": {
        "colab_type": "code",
        "id": "C1zdgJkusRh0",
        "colab": {
          "base_uri": "https://localhost:8080/",
          "height": 197
        },
        "outputId": "1434bc63-73c9-453e-ae25-a2cc178bdb10"
      },
      "source": [
        "# Note this is the 100 dimension version of GloVe from Stanford\n",
        "# I unzipped and hosted it on my site to make this notebook easier\n",
        "!wget --no-check-certificate \\\n",
        "    https://storage.googleapis.com/laurencemoroney-blog.appspot.com/glove.6B.100d.txt \\\n",
        "    -O /tmp/glove.6B.100d.txt\n",
        "embeddings_index = {};\n",
        "with open('/tmp/glove.6B.100d.txt') as f:\n",
        "    for line in f:\n",
        "        values = line.split();\n",
        "        word = values[0];\n",
        "        coefs = np.asarray(values[1:], dtype='float32');\n",
        "        embeddings_index[word] = coefs;\n",
        "\n",
        "embeddings_matrix = np.zeros((vocab_size+1, embedding_dim));\n",
        "for word, i in word_index.items():\n",
        "    embedding_vector = embeddings_index.get(word);\n",
        "    if embedding_vector is not None:\n",
        "        embeddings_matrix[i] = embedding_vector;"
      ],
      "execution_count": null,
      "outputs": [
        {
          "output_type": "stream",
          "text": [
            "--2020-07-05 09:34:13--  https://storage.googleapis.com/laurencemoroney-blog.appspot.com/glove.6B.100d.txt\n",
            "Resolving storage.googleapis.com (storage.googleapis.com)... 74.125.28.128, 74.125.142.128, 74.125.195.128, ...\n",
            "Connecting to storage.googleapis.com (storage.googleapis.com)|74.125.28.128|:443... connected.\n",
            "HTTP request sent, awaiting response... 200 OK\n",
            "Length: 347116733 (331M) [text/plain]\n",
            "Saving to: ‘/tmp/glove.6B.100d.txt’\n",
            "\n",
            "/tmp/glove.6B.100d. 100%[===================>] 331.04M   127MB/s    in 2.6s    \n",
            "\n",
            "2020-07-05 09:34:15 (127 MB/s) - ‘/tmp/glove.6B.100d.txt’ saved [347116733/347116733]\n",
            "\n"
          ],
          "name": "stdout"
        }
      ]
    },
    {
      "cell_type": "code",
      "metadata": {
        "colab_type": "code",
        "id": "71NLk_lpFLNt",
        "colab": {
          "base_uri": "https://localhost:8080/",
          "height": 32
        },
        "outputId": "e05313f6-1468-49cf-8d1c-695b7d2ed58e"
      },
      "source": [
        "print(len(embeddings_matrix))\n",
        "# Expected Output\n",
        "# 138859"
      ],
      "execution_count": null,
      "outputs": [
        {
          "output_type": "stream",
          "text": [
            "138562\n"
          ],
          "name": "stdout"
        }
      ]
    },
    {
      "cell_type": "code",
      "metadata": {
        "colab_type": "code",
        "id": "iKKvbuEBOGFz",
        "colab": {
          "base_uri": "https://localhost:8080/",
          "height": 1000
        },
        "outputId": "ee254859-4e40-4797-a476-2f02f1b08e4d"
      },
      "source": [
        "model = tf.keras.Sequential([\n",
        "    tf.keras.layers.Embedding(vocab_size+1, embedding_dim, input_length=max_length, weights=[embeddings_matrix], trainable=False),\n",
        "    tf.keras.layers.Dropout(0.2),\n",
        "    tf.keras.layers.Conv1D(64, 5, activation='relu'),\n",
        "    tf.keras.layers.MaxPooling1D(pool_size=4),\n",
        "    tf.keras.layers.LSTM(64),\n",
        "    tf.keras.layers.Dense(1, activation='sigmoid')\n",
        "])\n",
        "model.compile(loss='binary_crossentropy',optimizer='adam',metrics=['accuracy'])\n",
        "model.summary()\n",
        "\n",
        "num_epochs = 50\n",
        "\n",
        "training_padded = np.array(training_sequences)\n",
        "training_labels = np.array(training_labels)\n",
        "testing_padded = np.array(test_sequences)\n",
        "testing_labels = np.array(test_labels)\n",
        "\n",
        "history = model.fit(training_padded, training_labels, epochs=num_epochs, validation_data=(testing_padded, testing_labels), verbose=2)\n",
        "\n",
        "print(\"Training Complete\")"
      ],
      "execution_count": null,
      "outputs": [
        {
          "output_type": "stream",
          "text": [
            "Model: \"sequential\"\n",
            "_________________________________________________________________\n",
            "Layer (type)                 Output Shape              Param #   \n",
            "=================================================================\n",
            "embedding (Embedding)        (None, 16, 100)           13856200  \n",
            "_________________________________________________________________\n",
            "dropout (Dropout)            (None, 16, 100)           0         \n",
            "_________________________________________________________________\n",
            "conv1d (Conv1D)              (None, 12, 64)            32064     \n",
            "_________________________________________________________________\n",
            "max_pooling1d (MaxPooling1D) (None, 3, 64)             0         \n",
            "_________________________________________________________________\n",
            "lstm (LSTM)                  (None, 64)                33024     \n",
            "_________________________________________________________________\n",
            "dense (Dense)                (None, 1)                 65        \n",
            "=================================================================\n",
            "Total params: 13,921,353\n",
            "Trainable params: 65,153\n",
            "Non-trainable params: 13,856,200\n",
            "_________________________________________________________________\n",
            "Epoch 1/50\n",
            "4500/4500 - 15s - loss: 0.5672 - accuracy: 0.6994 - val_loss: 0.5379 - val_accuracy: 0.7209\n",
            "Epoch 2/50\n",
            "4500/4500 - 15s - loss: 0.5278 - accuracy: 0.7319 - val_loss: 0.5239 - val_accuracy: 0.7310\n",
            "Epoch 3/50\n",
            "4500/4500 - 15s - loss: 0.5110 - accuracy: 0.7446 - val_loss: 0.5099 - val_accuracy: 0.7405\n",
            "Epoch 4/50\n",
            "4500/4500 - 14s - loss: 0.5005 - accuracy: 0.7514 - val_loss: 0.5109 - val_accuracy: 0.7453\n",
            "Epoch 5/50\n",
            "4500/4500 - 15s - loss: 0.4910 - accuracy: 0.7578 - val_loss: 0.5025 - val_accuracy: 0.7487\n",
            "Epoch 6/50\n",
            "4500/4500 - 14s - loss: 0.4836 - accuracy: 0.7619 - val_loss: 0.5058 - val_accuracy: 0.7481\n",
            "Epoch 7/50\n",
            "4500/4500 - 15s - loss: 0.4766 - accuracy: 0.7664 - val_loss: 0.5066 - val_accuracy: 0.7475\n",
            "Epoch 8/50\n",
            "4500/4500 - 15s - loss: 0.4719 - accuracy: 0.7699 - val_loss: 0.5044 - val_accuracy: 0.7538\n",
            "Epoch 9/50\n",
            "4500/4500 - 15s - loss: 0.4687 - accuracy: 0.7717 - val_loss: 0.5059 - val_accuracy: 0.7486\n",
            "Epoch 10/50\n",
            "4500/4500 - 14s - loss: 0.4644 - accuracy: 0.7741 - val_loss: 0.5036 - val_accuracy: 0.7517\n",
            "Epoch 11/50\n",
            "4500/4500 - 15s - loss: 0.4587 - accuracy: 0.7771 - val_loss: 0.5109 - val_accuracy: 0.7499\n",
            "Epoch 12/50\n",
            "4500/4500 - 15s - loss: 0.4576 - accuracy: 0.7776 - val_loss: 0.5073 - val_accuracy: 0.7506\n",
            "Epoch 13/50\n",
            "4500/4500 - 15s - loss: 0.4561 - accuracy: 0.7793 - val_loss: 0.5127 - val_accuracy: 0.7482\n",
            "Epoch 14/50\n",
            "4500/4500 - 15s - loss: 0.4526 - accuracy: 0.7812 - val_loss: 0.5072 - val_accuracy: 0.7496\n",
            "Epoch 15/50\n",
            "4500/4500 - 15s - loss: 0.4500 - accuracy: 0.7832 - val_loss: 0.5094 - val_accuracy: 0.7484\n",
            "Epoch 16/50\n",
            "4500/4500 - 14s - loss: 0.4482 - accuracy: 0.7838 - val_loss: 0.5127 - val_accuracy: 0.7511\n",
            "Epoch 17/50\n",
            "4500/4500 - 15s - loss: 0.4469 - accuracy: 0.7846 - val_loss: 0.5216 - val_accuracy: 0.7473\n",
            "Epoch 18/50\n",
            "4500/4500 - 15s - loss: 0.4447 - accuracy: 0.7870 - val_loss: 0.5213 - val_accuracy: 0.7523\n",
            "Epoch 19/50\n",
            "4500/4500 - 15s - loss: 0.4435 - accuracy: 0.7868 - val_loss: 0.5182 - val_accuracy: 0.7489\n",
            "Epoch 20/50\n",
            "4500/4500 - 15s - loss: 0.4422 - accuracy: 0.7881 - val_loss: 0.5248 - val_accuracy: 0.7463\n",
            "Epoch 21/50\n",
            "4500/4500 - 14s - loss: 0.4417 - accuracy: 0.7880 - val_loss: 0.5167 - val_accuracy: 0.7501\n",
            "Epoch 22/50\n",
            "4500/4500 - 14s - loss: 0.4398 - accuracy: 0.7893 - val_loss: 0.5204 - val_accuracy: 0.7481\n",
            "Epoch 23/50\n",
            "4500/4500 - 15s - loss: 0.4399 - accuracy: 0.7894 - val_loss: 0.5268 - val_accuracy: 0.7462\n",
            "Epoch 24/50\n",
            "4500/4500 - 14s - loss: 0.4376 - accuracy: 0.7912 - val_loss: 0.5253 - val_accuracy: 0.7457\n",
            "Epoch 25/50\n",
            "4500/4500 - 15s - loss: 0.4370 - accuracy: 0.7912 - val_loss: 0.5214 - val_accuracy: 0.7467\n",
            "Epoch 26/50\n",
            "4500/4500 - 14s - loss: 0.4372 - accuracy: 0.7911 - val_loss: 0.5234 - val_accuracy: 0.7466\n",
            "Epoch 27/50\n",
            "4500/4500 - 14s - loss: 0.4352 - accuracy: 0.7922 - val_loss: 0.5250 - val_accuracy: 0.7466\n",
            "Epoch 28/50\n",
            "4500/4500 - 15s - loss: 0.4342 - accuracy: 0.7938 - val_loss: 0.5234 - val_accuracy: 0.7444\n",
            "Epoch 29/50\n",
            "4500/4500 - 14s - loss: 0.4345 - accuracy: 0.7915 - val_loss: 0.5244 - val_accuracy: 0.7456\n",
            "Epoch 30/50\n",
            "4500/4500 - 14s - loss: 0.4330 - accuracy: 0.7936 - val_loss: 0.5241 - val_accuracy: 0.7467\n",
            "Epoch 31/50\n",
            "4500/4500 - 15s - loss: 0.4323 - accuracy: 0.7937 - val_loss: 0.5276 - val_accuracy: 0.7454\n",
            "Epoch 32/50\n",
            "4500/4500 - 14s - loss: 0.4331 - accuracy: 0.7932 - val_loss: 0.5344 - val_accuracy: 0.7477\n",
            "Epoch 33/50\n",
            "4500/4500 - 14s - loss: 0.4324 - accuracy: 0.7945 - val_loss: 0.5257 - val_accuracy: 0.7471\n",
            "Epoch 34/50\n",
            "4500/4500 - 16s - loss: 0.4313 - accuracy: 0.7951 - val_loss: 0.5256 - val_accuracy: 0.7460\n",
            "Epoch 35/50\n",
            "4500/4500 - 14s - loss: 0.4298 - accuracy: 0.7957 - val_loss: 0.5319 - val_accuracy: 0.7479\n",
            "Epoch 36/50\n",
            "4500/4500 - 15s - loss: 0.4298 - accuracy: 0.7943 - val_loss: 0.5284 - val_accuracy: 0.7482\n",
            "Epoch 37/50\n",
            "4500/4500 - 14s - loss: 0.4278 - accuracy: 0.7967 - val_loss: 0.5225 - val_accuracy: 0.7479\n",
            "Epoch 38/50\n",
            "4500/4500 - 15s - loss: 0.4289 - accuracy: 0.7955 - val_loss: 0.5316 - val_accuracy: 0.7464\n",
            "Epoch 39/50\n",
            "4500/4500 - 14s - loss: 0.4280 - accuracy: 0.7966 - val_loss: 0.5278 - val_accuracy: 0.7466\n",
            "Epoch 40/50\n",
            "4500/4500 - 14s - loss: 0.4278 - accuracy: 0.7962 - val_loss: 0.5352 - val_accuracy: 0.7444\n",
            "Epoch 41/50\n",
            "4500/4500 - 15s - loss: 0.4287 - accuracy: 0.7966 - val_loss: 0.5284 - val_accuracy: 0.7462\n",
            "Epoch 42/50\n",
            "4500/4500 - 15s - loss: 0.4284 - accuracy: 0.7962 - val_loss: 0.5307 - val_accuracy: 0.7487\n",
            "Epoch 43/50\n",
            "4500/4500 - 14s - loss: 0.4283 - accuracy: 0.7963 - val_loss: 0.5298 - val_accuracy: 0.7469\n",
            "Epoch 44/50\n",
            "4500/4500 - 14s - loss: 0.4270 - accuracy: 0.7976 - val_loss: 0.5300 - val_accuracy: 0.7484\n",
            "Epoch 45/50\n",
            "4500/4500 - 14s - loss: 0.4267 - accuracy: 0.7975 - val_loss: 0.5236 - val_accuracy: 0.7474\n",
            "Epoch 46/50\n",
            "4500/4500 - 14s - loss: 0.4267 - accuracy: 0.7973 - val_loss: 0.5268 - val_accuracy: 0.7506\n",
            "Epoch 47/50\n",
            "4500/4500 - 15s - loss: 0.4250 - accuracy: 0.7993 - val_loss: 0.5301 - val_accuracy: 0.7453\n",
            "Epoch 48/50\n",
            "4500/4500 - 14s - loss: 0.4273 - accuracy: 0.7967 - val_loss: 0.5280 - val_accuracy: 0.7495\n",
            "Epoch 49/50\n",
            "4500/4500 - 14s - loss: 0.4270 - accuracy: 0.7973 - val_loss: 0.5242 - val_accuracy: 0.7526\n",
            "Epoch 50/50\n",
            "4500/4500 - 15s - loss: 0.4262 - accuracy: 0.7988 - val_loss: 0.5312 - val_accuracy: 0.7484\n",
            "Training Complete\n"
          ],
          "name": "stdout"
        }
      ]
    },
    {
      "cell_type": "code",
      "metadata": {
        "colab_type": "code",
        "id": "qxju4ItJKO8F",
        "colab": {
          "base_uri": "https://localhost:8080/",
          "height": 604
        },
        "outputId": "685b4c02-6ec2-4843-8e16-9a480b24df49"
      },
      "source": [
        "import matplotlib.image  as mpimg\n",
        "import matplotlib.pyplot as plt\n",
        "\n",
        "#-----------------------------------------------------------\n",
        "# Retrieve a list of list results on training and test data\n",
        "# sets for each training epoch\n",
        "#-----------------------------------------------------------\n",
        "acc=history.history['accuracy']\n",
        "val_acc=history.history['val_accuracy']\n",
        "loss=history.history['loss']\n",
        "val_loss=history.history['val_loss']\n",
        "\n",
        "epochs=range(len(acc)) # Get number of epochs\n",
        "\n",
        "#------------------------------------------------\n",
        "# Plot training and validation accuracy per epoch\n",
        "#------------------------------------------------\n",
        "plt.plot(epochs, acc, 'r')\n",
        "plt.plot(epochs, val_acc, 'b')\n",
        "plt.title('Training and validation accuracy')\n",
        "plt.xlabel(\"Epochs\")\n",
        "plt.ylabel(\"Accuracy\")\n",
        "plt.legend([\"Accuracy\", \"Validation Accuracy\"])\n",
        "\n",
        "plt.figure()\n",
        "\n",
        "#------------------------------------------------\n",
        "# Plot training and validation loss per epoch\n",
        "#------------------------------------------------\n",
        "plt.plot(epochs, loss, 'r')\n",
        "plt.plot(epochs, val_loss, 'b')\n",
        "plt.title('Training and validation loss')\n",
        "plt.xlabel(\"Epochs\")\n",
        "plt.ylabel(\"Loss\")\n",
        "plt.legend([\"Loss\", \"Validation Loss\"])\n",
        "\n",
        "plt.figure()\n",
        "\n",
        "\n",
        "# Expected Output\n",
        "# A chart where the validation loss does not increase sharply!"
      ],
      "execution_count": null,
      "outputs": [
        {
          "output_type": "execute_result",
          "data": {
            "text/plain": [
              "<Figure size 432x288 with 0 Axes>"
            ]
          },
          "metadata": {
            "tags": []
          },
          "execution_count": 9
        },
        {
          "output_type": "display_data",
          "data": {
            "image/png": "[encoded data removed]",
            "text/plain": [
              "<Figure size 432x288 with 1 Axes>"
            ]
          },
          "metadata": {
            "tags": [],
            "needs_background": "light"
          }
        },
        {
          "output_type": "display_data",
          "data": {
            "image/png": "[encoded data removed]",
            "text/plain": [
              "<Figure size 432x288 with 1 Axes>"
            ]
          },
          "metadata": {
            "tags": [],
            "needs_background": "light"
          }
        },
        {
          "output_type": "display_data",
          "data": {
            "text/plain": [
              "<Figure size 432x288 with 0 Axes>"
            ]
          },
          "metadata": {
            "tags": []
          }
        }
      ]
    },
    {
      "cell_type": "code",
      "metadata": {
        "id": "nz9JQM9fUxCh",
        "colab_type": "code",
        "colab": {}
      },
      "source": [
        ""
      ],
      "execution_count": null,
      "outputs": []
    }
  ]
}